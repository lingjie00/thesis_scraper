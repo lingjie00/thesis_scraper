{
 "cells": [
  {
   "cell_type": "code",
   "execution_count": 7,
   "id": "61763a02",
   "metadata": {
    "ExecuteTime": {
     "end_time": "2022-02-05T05:23:46.869396Z",
     "start_time": "2022-02-05T05:23:39.363705Z"
    }
   },
   "outputs": [],
   "source": [
    "\"\"\"Runs the scraper.\"\"\"\n",
    "import configparser\n",
    "import csv\n",
    "import logging\n",
    "\n",
    "from finage import Fundamental, Price\n",
    "\n",
    "\n",
    "def extract():\n",
    "    \"\"\"Run extraction.\"\"\"\n",
    "    logging.basicConfig(filename=\"test.log\", level=logging.DEBUG)\n",
    "\n",
    "    # notebook has a different working dir from project\n",
    "    relative_path = \"../\"\n",
    "\n",
    "    config = configparser.ConfigParser()\n",
    "    config.read(relative_path + \"data/key.ini\")\n",
    "\n",
    "    logging.debug(config[\"DEFAULT\"])\n",
    "\n",
    "    # API key\n",
    "    _API = config[\"DEFAULT\"][\"API\"]\n",
    "\n",
    "    # files\n",
    "    fundamental_filepath = relative_path+\"output/fundamental\"\n",
    "    price_filepath = relative_path+\"output/price\"\n",
    "    fundamental_filepath = relative_path+\"output/test_output\"\n",
    "    price_filepath = relative_path+\"output/test_output\"\n",
    "    symbol_file = relative_path+\"data/LSE_symbols.csv\"\n",
    "    symbol_file = relative_path+\"data/symbol_test.csv\"\n",
    "\n",
    "    fundamental_extractor = Fundamental(_API, fundamental_filepath)\n",
    "\n",
    "    with open(symbol_file, \"r\") as file:\n",
    "        reader = csv.reader(file, delimiter=\",\")\n",
    "        for row in reader:\n",
    "            # symbol stored in first column\n",
    "            symbol = row[0]\n",
    "            logging.debug(symbol)\n",
    "            fundamental_extractor.extract(symbol=symbol)\n",
    "\n",
    "    price_extractor = Price(API=_API, filepath=price_filepath)\n",
    "\n",
    "    with open(symbol_file, \"r\") as file:\n",
    "        reader = csv.reader(file, delimiter=\",\")\n",
    "        for row in reader:\n",
    "            # symbol stored in first column\n",
    "            symbol = row[0]\n",
    "            logging.debug(symbol)\n",
    "            price_extractor.extract(symbol=symbol)\n",
    "\n",
    "\n",
    "extract()"
   ]
  },
  {
   "cell_type": "code",
   "execution_count": null,
   "id": "2a9f52c8",
   "metadata": {},
   "outputs": [],
   "source": []
  }
 ],
 "metadata": {
  "hide_input": false,
  "kernelspec": {
   "display_name": "Python 3 (ipykernel)",
   "language": "python",
   "name": "python3"
  },
  "language_info": {
   "codemirror_mode": {
    "name": "ipython",
    "version": 3
   },
   "file_extension": ".py",
   "mimetype": "text/x-python",
   "name": "python",
   "nbconvert_exporter": "python",
   "pygments_lexer": "ipython3",
   "version": "3.9.0"
  },
  "latex_envs": {
   "LaTeX_envs_menu_present": true,
   "autoclose": false,
   "autocomplete": true,
   "bibliofile": "biblio.bib",
   "cite_by": "apalike",
   "current_citInitial": 1,
   "eqLabelWithNumbers": true,
   "eqNumInitial": 1,
   "hotkeys": {
    "equation": "Ctrl-E",
    "itemize": "Ctrl-I"
   },
   "labels_anchors": false,
   "latex_user_defs": false,
   "report_style_numbering": false,
   "user_envs_cfg": false
  },
  "toc": {
   "base_numbering": 1,
   "nav_menu": {},
   "number_sections": true,
   "sideBar": true,
   "skip_h1_title": false,
   "title_cell": "Table of Contents",
   "title_sidebar": "Contents",
   "toc_cell": false,
   "toc_position": {},
   "toc_section_display": true,
   "toc_window_display": false
  },
  "varInspector": {
   "cols": {
    "lenName": 16,
    "lenType": 16,
    "lenVar": 40
   },
   "kernels_config": {
    "python": {
     "delete_cmd_postfix": "",
     "delete_cmd_prefix": "del ",
     "library": "var_list.py",
     "varRefreshCmd": "print(var_dic_list())"
    },
    "r": {
     "delete_cmd_postfix": ") ",
     "delete_cmd_prefix": "rm(",
     "library": "var_list.r",
     "varRefreshCmd": "cat(var_dic_list()) "
    }
   },
   "types_to_exclude": [
    "module",
    "function",
    "builtin_function_or_method",
    "instance",
    "_Feature"
   ],
   "window_display": false
  }
 },
 "nbformat": 4,
 "nbformat_minor": 5
}
